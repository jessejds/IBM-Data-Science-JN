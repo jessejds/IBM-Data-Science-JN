{
 "cells": [
  {
   "cell_type": "markdown",
   "id": "e03015c1-f5b5-41cd-9cfb-ecb1e0cda739",
   "metadata": {},
   "source": [
    "# Data Science Tools and Ecosystem #"
   ]
  },
  {
   "cell_type": "markdown",
   "id": "ae1d9acd-dc90-4868-aaa5-78a3444e5b01",
   "metadata": {},
   "source": [
    "**Author**\n",
    "Jesse Deane-Smith"
   ]
  },
  {
   "cell_type": "markdown",
   "id": "b4c23ce2-fc3d-4570-83ab-e63eb896b12c",
   "metadata": {},
   "source": [
    "In this notebook, Data Science Tools and Ecosystem are summarized."
   ]
  },
  {
   "cell_type": "markdown",
   "id": "ec2b56e1-078f-4aea-a810-43edd9b8952f",
   "metadata": {},
   "source": [
    "**Objectives**\n",
    "- List popular languages in Data Science\n",
    "- List commonly used Libraries in Data Science\n",
    "- List Data Science Tools\n"
   ]
  },
  {
   "cell_type": "markdown",
   "id": "95b4d308-2e10-409e-a98c-6d0344ff57e8",
   "metadata": {},
   "source": [
    "Some of the popular languages that Data Scientists use are:\n",
    "1. Python\n",
    "2. R\n",
    "3. SQL"
   ]
  },
  {
   "cell_type": "markdown",
   "id": "549e5fab-35ce-4e41-ad32-cee976994ae5",
   "metadata": {},
   "source": [
    "Some of the commonly used libraries by Data Scientists include:\n",
    "1. Pandas\n",
    "2. Numpy\n",
    "3. Matplotlib"
   ]
  },
  {
   "cell_type": "markdown",
   "id": "897cbf3e-33e1-4a66-8a98-db9f74cdc70d",
   "metadata": {},
   "source": [
    "|Data Science Tools|\n",
    "|---|\n",
    "|Jupyter Notebooks|\n",
    "|R Studio|\n",
    "|IBM Watson Studio|"
   ]
  },
  {
   "cell_type": "markdown",
   "id": "aae4870d-1aff-4e8b-96b6-84b0cbc3f67c",
   "metadata": {},
   "source": [
    "***Below are a few examples of evaluating arithmetic expressions in Python***"
   ]
  },
  {
   "cell_type": "code",
   "execution_count": 1,
   "id": "60090f30-a26d-4719-bf23-dc575f8e8115",
   "metadata": {},
   "outputs": [],
   "source": [
    "#This a simple arithmetic expression to multiply then add integers#"
   ]
  },
  {
   "cell_type": "code",
   "execution_count": 2,
   "id": "56754987-27f6-412d-b2ba-afc8d3803347",
   "metadata": {},
   "outputs": [
    {
     "data": {
      "text/plain": [
       "17"
      ]
     },
     "execution_count": 2,
     "metadata": {},
     "output_type": "execute_result"
    }
   ],
   "source": [
    "(3*4)+5"
   ]
  },
  {
   "cell_type": "code",
   "execution_count": null,
   "id": "88c55d72-43a7-4251-9233-50c39f776abd",
   "metadata": {},
   "outputs": [],
   "source": [
    "#This will convert 200 minutes to hours by diving by 60#"
   ]
  },
  {
   "cell_type": "code",
   "execution_count": 3,
   "id": "6c82dcc5-f3c8-4e70-98a9-3488f3f770d7",
   "metadata": {},
   "outputs": [
    {
     "name": "stdout",
     "output_type": "stream",
     "text": [
      "3.3333333333333335\n"
     ]
    }
   ],
   "source": [
    "minutes = 200\n",
    "hours = (minutes)/60\n",
    "print (hours)\n"
   ]
  },
  {
   "cell_type": "code",
   "execution_count": null,
   "id": "887260e7-1f26-4145-a0d5-0bad394b0c69",
   "metadata": {},
   "outputs": [],
   "source": []
  }
 ],
 "metadata": {
  "kernelspec": {
   "display_name": "Python 3 (ipykernel)",
   "language": "python",
   "name": "python3"
  },
  "language_info": {
   "codemirror_mode": {
    "name": "ipython",
    "version": 3
   },
   "file_extension": ".py",
   "mimetype": "text/x-python",
   "name": "python",
   "nbconvert_exporter": "python",
   "pygments_lexer": "ipython3",
   "version": "3.12.8"
  }
 },
 "nbformat": 4,
 "nbformat_minor": 5
}
